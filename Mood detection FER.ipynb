{
 "cells": [
  {
   "cell_type": "markdown",
   "id": "e98bbed6",
   "metadata": {},
   "source": [
    "# Human Mood or Emotion Detection from Images using Python\n",
    "\n",
    "## Introduction\n",
    "\n",
    "In recent years, there has been a growing interest in developing technologies capable of understanding and interpreting human emotions from images. The ability to detect human mood from visual cues opens up a wide range of applications, from improving user experiences in human-computer interaction to enhancing mental health diagnostics. In this Jupyter Notebook, we explore the exciting field of human mood or emotion detection from images using Python.\n",
    "\n",
    "## Python Packages for Emotion Detection\n",
    "\n",
    "### TensorFlow and Keras\n",
    "\n",
    "[TensorFlow](https://www.tensorflow.org/) and its high-level API [Keras](https://keras.io/) provide a powerful platform for building and training deep learning models. These frameworks offer pre-trained models suitable for image classification tasks, making them a popular choice for emotion detection.\n",
    "\n",
    "### OpenCV\n",
    "\n",
    "[OpenCV (Open Source Computer Vision)](https://opencv.org/) is a versatile computer vision library that plays a crucial role in image processing tasks. Its wide array of functions can be used for facial detection and preprocessing images before feeding them into emotion recognition models.\n",
    "\n",
    "## Emotion Detection Libraries\n",
    "\n",
    "### FER (Facial Expression Recognition)\n",
    "\n",
    "The [FER library](https://github.com/priya-dwivedi/face_and_emotion_detection/tree/master/emotion_detector_models) is a dedicated library specifically designed for facial expression recognition. It provides pre-trained models capable of detecting emotions such as happiness, sadness, anger, and more. We will be using the FER library to streamline the process of emotion detection in this notebook.\n",
    "\n",
    "## Getting Started\n",
    "\n",
    "To begin our exploration, we'll use a simple yet effective approach employing pre-trained models. Specifically, we'll leverage the capabilities of the FER library to detect and recognize facial expressions from images.\n",
    " ### Import FER and opencv-python packages"
   ]
  },
  {
   "cell_type": "code",
   "execution_count": 65,
   "id": "70b38699",
   "metadata": {},
   "outputs": [],
   "source": [
    "from fer import FER #version 22.5.1\n",
    "import cv2 ##version 4.8.1\n",
    "import matplotlib.pyplot as plt ##3.7.2"
   ]
  },
  {
   "cell_type": "markdown",
   "id": "4bd4f38f",
   "metadata": {},
   "source": [
    "Packages version used in this notebook (optional)"
   ]
  },
  {
   "cell_type": "markdown",
   "id": "763d48de",
   "metadata": {},
   "source": [
    "The line `emotion_detector = FER(mtcnn=True)` is initializing an instance of the `FER` (Facial Expression Recognition) class from the FER library with a specific configuration parameter.\n",
    "\n",
    "Here's a breakdown of the line:\n",
    "\n",
    "- `FER`: This is the main class of the FER library, representing the facial expression recognition model. Instances of this class are used to perform facial expression detection on images.\n",
    "\n",
    "- `mtcnn=True`: This part of the code specifies a parameter `mtcnn` and sets it to `True`. The `mtcnn` parameter stands for Multi-Task Cascaded Convolutional Networks, which is a specific algorithm used for face detection and alignment. When `mtcnn` is set to `True`, it indicates that the FER instance should use the MTCNN algorithm as part of the facial expression detection process.\n",
    "\n",
    "In simpler terms, by setting `mtcnn=True`, the `emotion_detector` instance will utilize the MTCNN algorithm for face detection and alignment before performing facial expression recognition. MTCNN is known for its accuracy in detecting facial features, making it a valuable tool in the context of facial expression recognition where precise facial alignment is crucial.\n"
   ]
  },
  {
   "cell_type": "code",
   "execution_count": 66,
   "id": "8f9d954b",
   "metadata": {},
   "outputs": [],
   "source": [
    "emotion_detector = FER(mtcnn=True)"
   ]
  },
  {
   "cell_type": "markdown",
   "id": "55f202c6",
   "metadata": {},
   "source": [
    "Read the image using `cv2 (opencv-python)`"
   ]
  },
  {
   "cell_type": "code",
   "execution_count": 67,
   "id": "0bbfc056",
   "metadata": {},
   "outputs": [],
   "source": [
    "img = cv2.imread(\"4.jpg\")"
   ]
  },
  {
   "cell_type": "markdown",
   "id": "0cc0ecde",
   "metadata": {},
   "source": [
    "Analyze emotions using the `FER` library"
   ]
  },
  {
   "cell_type": "code",
   "execution_count": 68,
   "id": "20a96a64",
   "metadata": {},
   "outputs": [
    {
     "data": {
      "text/plain": [
       "[{'box': [75, 39, 53, 74],\n",
       "  'emotions': {'angry': 0.0,\n",
       "   'disgust': 0.0,\n",
       "   'fear': 0.07,\n",
       "   'happy': 0.0,\n",
       "   'sad': 0.0,\n",
       "   'surprise': 0.93,\n",
       "   'neutral': 0.0}}]"
      ]
     },
     "execution_count": 68,
     "metadata": {},
     "output_type": "execute_result"
    }
   ],
   "source": [
    "analysis = emotion_detector.detect_emotions(img)\n",
    "analysis"
   ]
  },
  {
   "cell_type": "code",
   "execution_count": 69,
   "id": "3fc21db7",
   "metadata": {},
   "outputs": [
    {
     "data": {
      "text/plain": [
       "{'angry': 0.0,\n",
       " 'disgust': 0.0,\n",
       " 'fear': 0.07,\n",
       " 'happy': 0.0,\n",
       " 'sad': 0.0,\n",
       " 'surprise': 0.93,\n",
       " 'neutral': 0.0}"
      ]
     },
     "execution_count": 69,
     "metadata": {},
     "output_type": "execute_result"
    }
   ],
   "source": [
    "emotions_dictionary = analysis[0]['emotions'] #get the emotions key-value pair\n",
    "emotions_dictionary"
   ]
  },
  {
   "cell_type": "code",
   "execution_count": 70,
   "id": "e14f3ed3",
   "metadata": {},
   "outputs": [],
   "source": [
    "emotion_labels  = list(emotions_dictionary.keys())\n",
    "\n",
    "#emotion_values = emotions_dictionary.values() OR\n",
    "\n",
    "emotion_values = [emotions_dictionary[i] for i in emotion_labels]\n"
   ]
  },
  {
   "cell_type": "markdown",
   "id": "303cf048",
   "metadata": {},
   "source": [
    "Determine the dominant emotion"
   ]
  },
  {
   "cell_type": "code",
   "execution_count": 71,
   "id": "69ee216a",
   "metadata": {},
   "outputs": [],
   "source": [
    "max_value = max(emotion_values)\n",
    "for key, value in emotions_dictionary.items():\n",
    "    if value == max_value:\n",
    "        dominant_emotion = key.title() #make the first letter capital"
   ]
  },
  {
   "cell_type": "code",
   "execution_count": 72,
   "id": "c9ab4997",
   "metadata": {},
   "outputs": [
    {
     "data": {
      "text/plain": [
       "'Surprise'"
      ]
     },
     "execution_count": 72,
     "metadata": {},
     "output_type": "execute_result"
    }
   ],
   "source": [
    "dominant_emotion"
   ]
  },
  {
   "cell_type": "markdown",
   "id": "9b3ea84e",
   "metadata": {},
   "source": [
    "Plot a bar graph and anotate the dominant emotion using `matplotlib`"
   ]
  },
  {
   "cell_type": "code",
   "execution_count": 73,
   "id": "7eb80150",
   "metadata": {},
   "outputs": [
    {
     "data": {
      "image/png": "[encoded data removed]",
      "text/plain": [
       "<Figure size 640x480 with 1 Axes>"
      ]
     },
     "metadata": {},
     "output_type": "display_data"
    }
   ],
   "source": [
    "# Define colors for each label\n",
    "colors = ['blue', 'green', 'orange', 'red']\n",
    "\n",
    "emotion_labels  = [i.title() for i in emotions_dictionary.keys()]\n",
    "# Plotting the bar graph\n",
    "plt.bar(emotion_labels, emotion_values, color=colors)\n",
    "\n",
    "# Annotate the dominant emotion\n",
    "index_to_annotate = emotion_labels.index(dominant_emotion)  # Index of the emotion_label to annotate\n",
    "value_to_annotate = emotion_values[index_to_annotate]\n",
    "\n",
    "# Add the annotation\n",
    "plt.annotate(f'{dominant_emotion,value_to_annotate}', \n",
    "             xy=(index_to_annotate, value_to_annotate),\n",
    "             xytext=(index_to_annotate, value_to_annotate),  # Adjust the text position\n",
    "             ha='center',  # Horizontal alignment\n",
    "             va='bottom',  # Vertical alignment\n",
    "             color='black',  # Text color\n",
    "             weight='bold')  # Text weight\n",
    "\n",
    "\n",
    "\n",
    "# Adding labels and title\n",
    "plt.xlabel('Emotions')\n",
    "plt.ylabel('Values')\n",
    "plt.title('Human moood/emotion detection')\n",
    "\n",
    "# Display the plot\n",
    "plt.show()"
   ]
  },
  {
   "cell_type": "code",
   "execution_count": null,
   "id": "4b5aff5c",
   "metadata": {},
   "outputs": [],
   "source": []
  }
 ],
 "metadata": {
  "kernelspec": {
   "display_name": "Python 3 (ipykernel)",
   "language": "python",
   "name": "python3"
  },
  "language_info": {
   "codemirror_mode": {
    "name": "ipython",
    "version": 3
   },
   "file_extension": ".py",
   "mimetype": "text/x-python",
   "name": "python",
   "nbconvert_exporter": "python",
   "pygments_lexer": "ipython3",
   "version": "3.11.5"
  }
 },
 "nbformat": 4,
 "nbformat_minor": 5
}
